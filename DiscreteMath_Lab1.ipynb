{
 "cells": [
  {
   "cell_type": "markdown",
   "metadata": {},
   "source": [
    "# Διακριτά Μαθηματικά\n",
    "## Εισαγωγή – στοιχεία θεωρίας αριθμών, αλγόριθμοι ακεραίων, πολυπλοκότητα\n",
    "## Χρήστος Πετρίδης ([ics24199@uom.edu.gr](mailto:ics24199@uom.edu.gr))"
   ]
  },
  {
   "cell_type": "markdown",
   "metadata": {},
   "source": [
    "### Μεταβλητές\n",
    "\n",
    "Ο όρος *μεταβλητή* μπορεί να έχει διαφορετικές σημασίες. Στον προγραμματισμό, μια μεταβλητή είναι ο χώρος στη μνήμη που χρησιμοποιείται για την αποθήκευση  και ανάκτηση δεδομένων ή ένα όνομα που αναφέρεται στο αντικείμενο που είναι αποθηκευμένο εκεί. Στα μαθηματικά μια μεταβλητή, όπως η $x$, είναι μια ποσότητα με ακαθόριστη τιμή - ένα σύμβολο το οποίο μπορούμε να χειριζόμαστε με τους ίδιους κανόνες της αριθμητικής που εφαρμόζονται στους αριθμούς. Στο Sage, υπάρχουν και οι δύο χρήσεις και χρησιμοποιούμε τον όρο **μεταβλητή** για την προγραμματιστική μεταβλητή και τον όρο **συμβολική μεταβλητή** για τη μαθηματική μεταβλητή.\n",
    "\n",
    "Μπορεί κάποιος να ορίσει μεταβλητές δίνοντας τιμές ή, όταν πρόκειται για συμβολικές μεταβλητές, εισάγοντάς τες με `var`."
   ]
  },
  {
   "cell_type": "markdown",
   "metadata": {},
   "source": [
    "### Διαστήματα τιμών και λίστες\n",
    "\n",
    "Μπορούμε να πάρουμε ένα σύνολο τιμών με την εντολή range, με διάφορους τρόπους:\n",
    "* *range(n)*: επιστρέφει όλες τις διακριτές τιμές από το $0$ ως το $n–1$\n",
    "* *range(m,n)*: επιστρέφει όλες τις διακριτές τιμές από το $m$ ως το $n–1$\n",
    "* *range(m,n,s)*: επιστρέφει όλες τις διακριτές τιμές αρχίζοντας από το $m$ και με βήμα μεγέθους $s$ χωρίς να υπερβεί το $n$\n",
    "\n",
    "Η έξοδος μιας εντολής *range* είναι μια λίστα. Μπορούν να κατασκευαστούν λίστες με επανάληψη πάνω σε ένα διάστημα τιμών ή πάνω σε μια άλλη λίστα."
   ]
  },
  {
   "cell_type": "code",
   "execution_count": 1,
   "metadata": {},
   "outputs": [
    {
     "name": "stdout",
     "output_type": "stream",
     "text": [
      "[0, 1, 2, 3, 4, 5, 6]\n"
     ]
    }
   ],
   "source": [
    "print(list(range(7)))"
   ]
  },
  {
   "cell_type": "code",
   "execution_count": 2,
   "metadata": {},
   "outputs": [
    {
     "name": "stdout",
     "output_type": "stream",
     "text": [
      "[2, 3, 4, 5, 6, 7, 8, 9]\n"
     ]
    }
   ],
   "source": [
    "print(list(range(2,10)))"
   ]
  },
  {
   "cell_type": "code",
   "execution_count": 3,
   "metadata": {},
   "outputs": [
    {
     "name": "stdout",
     "output_type": "stream",
     "text": [
      "[20, 18, 16, 14, 12, 10, 8, 6, 4, 2]\n"
     ]
    }
   ],
   "source": [
    "print(list(range(20,1,-2)))"
   ]
  },
  {
   "cell_type": "code",
   "execution_count": 4,
   "metadata": {},
   "outputs": [
    {
     "name": "stdout",
     "output_type": "stream",
     "text": [
      "[0, 2, 4, 6, 8]\n",
      "5\n"
     ]
    }
   ],
   "source": [
    "L=[x for x in range(10) if x%2==0]\n",
    "print(L); print(len(L));"
   ]
  },
  {
   "cell_type": "code",
   "execution_count": 5,
   "metadata": {},
   "outputs": [
    {
     "name": "stdout",
     "output_type": "stream",
     "text": [
      "[3, 5, 7, 8, 9]\n"
     ]
    }
   ],
   "source": [
    "M=[floor(sqrt(2*x)) for x in range(5,50,10)]\n",
    "print(M)"
   ]
  },
  {
   "cell_type": "markdown",
   "metadata": {},
   "source": [
    "### Διακριτός vs Συνεχής \n",
    "\n",
    "Άσκηση: υπολογίστε το άθροισμα των αριθμών που περιλαμβάνονται μεταξύ των αριθμών 0 και 5."
   ]
  },
  {
   "cell_type": "markdown",
   "metadata": {},
   "source": [
    " Απάντηση: στο σύνολο $\\mathbb{Z}$"
   ]
  },
  {
   "cell_type": "code",
   "execution_count": 6,
   "metadata": {},
   "outputs": [
    {
     "name": "stdout",
     "output_type": "stream",
     "text": [
      "10\n"
     ]
    }
   ],
   "source": [
    "S=0;\n",
    "n=5\n",
    "for k in range(1,n):\n",
    "    S=S+k\n",
    "print(S)"
   ]
  },
  {
   "cell_type": "markdown",
   "metadata": {},
   "source": [
    "$S(n) = \\sum_{k=1}^{n} k = \\frac{n(n+1)}{2}$"
   ]
  },
  {
   "cell_type": "code",
   "execution_count": 7,
   "metadata": {},
   "outputs": [
    {
     "name": "stdout",
     "output_type": "stream",
     "text": [
      "1/2*n^2 + 1/2*n\n",
      "1/2*(n + 1)*n\n",
      "10\n"
     ]
    }
   ],
   "source": [
    "n, k = var('n,k')\n",
    "res = sum(k,k,1,n)\n",
    "print (res)\n",
    "print (factor(res))\n",
    "s = res(n=4)\n",
    "print (s)"
   ]
  },
  {
   "cell_type": "code",
   "execution_count": 8,
   "metadata": {},
   "outputs": [
    {
     "data": {
      "text/plain": [
       "(Integer Ring,\n",
       " Rational Field,\n",
       " Real Field with 53 bits of precision,\n",
       " Complex Field with 53 bits of precision)"
      ]
     },
     "execution_count": 8,
     "metadata": {},
     "output_type": "execute_result"
    }
   ],
   "source": [
    "ZZ, QQ, RR, CC"
   ]
  },
  {
   "cell_type": "markdown",
   "metadata": {},
   "source": [
    " στο σύνολο $\\mathbb{R}$"
   ]
  },
  {
   "cell_type": "code",
   "execution_count": 9,
   "metadata": {},
   "outputs": [
    {
     "name": "stdout",
     "output_type": "stream",
     "text": [
      "(25/2, 12.5000000000000)\n",
      "Symbolic Ring\n",
      "Real Field with 53 bits of precision\n"
     ]
    }
   ],
   "source": [
    "z = var('z')\n",
    "Sum=integral(z, z, 0, 5)\n",
    "print (Sum, RR(Sum))\n",
    "print (parent(Sum))\n",
    "print (parent(RR(Sum)))"
   ]
  },
  {
   "cell_type": "markdown",
   "metadata": {},
   "source": [
    "Σημείωση: με την εντολή **parent** διαπιστώνουμε ποιος είναι ο τύπος της μεταβλητής (από την άποψη της αλγεβρικής δομής) και για  την ακρίβεια του αντικειμένου στο οποίο αναφέρεται η μεταβλητή. Το Sage είναι αντικειμενοστρεφές, οπότε κάθε μια τιμή είναι ένα αντικείμενο συγκεκριμένου τύπου. Ωστόσο, είναι δυνατό να γίνει μετατροπή του τύπου."
   ]
  },
  {
   "cell_type": "code",
   "execution_count": 10,
   "metadata": {},
   "outputs": [
    {
     "name": "stdout",
     "output_type": "stream",
     "text": [
      "53\n",
      "100\n",
      "12.500000000000000000000000000\n"
     ]
    }
   ],
   "source": [
    "print (RR.precision())\n",
    "print (RealField(100).precision())\n",
    "R=RealField(100)\n",
    "print (R(Sum))"
   ]
  },
  {
   "cell_type": "markdown",
   "metadata": {},
   "source": [
    "** Άσκηση:** Υπολογίστε το άθροισμα των τετραγώνων των αριθμών που περιλαμβάνονται μεταξύ των αριθμών 0 και 5. Δίνεται ότι: $S(n)=1^2+2^2+ \\ldots + n^2 = \\sum_{k=1}^{n}k^2 = \\frac{n(n+1)(2n+1)}{6}$."
   ]
  },
  {
   "cell_type": "markdown",
   "metadata": {},
   "source": [
    "** Η πράξη modulo **"
   ]
  },
  {
   "cell_type": "code",
   "execution_count": 11,
   "metadata": {},
   "outputs": [
    {
     "name": "stdout",
     "output_type": "stream",
     "text": [
      "11\n",
      "2\n"
     ]
    }
   ],
   "source": [
    "#η ώρα είναι 16:00, τι ώρα θα έχουμε σε 19 ώρες από τώρα?\n",
    "print ((16+19)%24)\n",
    "\n",
    "# η ημέρα είναι Πέμπτη, τι ημέρα θα έχουμε σε 19 ημέρες από σήμερα?\n",
    "print (mod((4+19),7))"
   ]
  },
  {
   "cell_type": "code",
   "execution_count": 12,
   "metadata": {},
   "outputs": [
    {
     "name": "stdout",
     "output_type": "stream",
     "text": [
      "(1, 3)\n",
      "(3, 1)\n"
     ]
    }
   ],
   "source": [
    "# 10 = 3*3 + 1\n",
    "print (10%3, 10//3)\n",
    "print (divmod(10,3))"
   ]
  },
  {
   "cell_type": "code",
   "execution_count": 13,
   "metadata": {},
   "outputs": [
    {
     "name": "stdout",
     "output_type": "stream",
     "text": [
      "(3, 2)\n",
      "(-4, 1)\n"
     ]
    }
   ],
   "source": [
    "print (divmod(11,3))\n",
    "print (divmod(-11,3))"
   ]
  },
  {
   "cell_type": "markdown",
   "metadata": {},
   "source": [
    "Το Sage είναι αντικειμενοστρεφές (είναι δομημένο με αντικείμενα και τα δεδομένα που επεξεργάζεται αναπαριστάνονται επίσης ως αντικείμενα τα οποία ανήκουν σε συγκεκριμένες κλάσεις - τύπους δεδομένων) οπότε κάθε μια τιμή είναι ένα αντικείμενο συγκεκριμένου τύπου. Στο παρακάτω παράδειγμα, το αντικείμενο $a$ είναι ένας συνηθισμένος ακέραιος (στοιχείο του συνόλου $\\mathbb{Z}$ των ακεραίων), ενώ το δεύτερο αντικείμενο $b$ είναι ένας ακέραιος modulo 17 (στοιχείο του συνόλου $\\mathbb{Z}_{17}$ των κλάσεων υπολοίπων) και επομένως όλες οι πράξεις που ακολουθούν σε αυτή τη μεταβλητή θα επιστρέφουν αποτελέσματα modulo 17. Ιδιαίτερα χρήσιμη για να γίνονται φανερά τα παραπάνω είναι η εντολή parent."
   ]
  },
  {
   "cell_type": "code",
   "execution_count": 14,
   "metadata": {},
   "outputs": [
    {
     "name": "stdout",
     "output_type": "stream",
     "text": [
      "3\n",
      "103\n",
      "1797010299914431210413179829509605039731475627537851106401\n"
     ]
    }
   ],
   "source": [
    "a=105%17;\n",
    "print (a)\n",
    "print (a+100)\n",
    "print (a^120)"
   ]
  },
  {
   "cell_type": "code",
   "execution_count": 15,
   "metadata": {
    "scrolled": true
   },
   "outputs": [
    {
     "name": "stdout",
     "output_type": "stream",
     "text": [
      "3\n",
      "1\n",
      "16\n",
      "4\n"
     ]
    }
   ],
   "source": [
    "b=mod(105,17); \n",
    "print (b)\n",
    "print (b+100)\n",
    "print (b^120)\n",
    "print (b^1024+a)"
   ]
  },
  {
   "cell_type": "code",
   "execution_count": 16,
   "metadata": {},
   "outputs": [
    {
     "name": "stdout",
     "output_type": "stream",
     "text": [
      "(Integer Ring, <type 'sage.rings.integer.Integer'>)\n",
      "(Ring of integers modulo 17, <type 'sage.rings.finite_rings.integer_mod.IntegerMod_int'>)\n"
     ]
    }
   ],
   "source": [
    "print (parent(a), type(a))\n",
    "print (parent(b), type(b))"
   ]
  },
  {
   "cell_type": "markdown",
   "metadata": {},
   "source": [
    "### Προσθετική ομάδα modulo $n$: $(\\mathbb{Z}_n,+)$"
   ]
  },
  {
   "cell_type": "code",
   "execution_count": 17,
   "metadata": {},
   "outputs": [
    {
     "name": "stdout",
     "output_type": "stream",
     "text": [
      "Ring of integers modulo 5\n",
      "[0, 1, 2, 3, 4]\n",
      "2\n",
      "2\n"
     ]
    },
    {
     "data": {
      "text/plain": [
       "+  0 1 2 3 4\n",
       " +----------\n",
       "0| 0 1 2 3 4\n",
       "1| 1 2 3 4 0\n",
       "2| 2 3 4 0 1\n",
       "3| 3 4 0 1 2\n",
       "4| 4 0 1 2 3\n"
      ]
     },
     "execution_count": 17,
     "metadata": {},
     "output_type": "execute_result"
    }
   ],
   "source": [
    "Z5=IntegerModRing(5)\n",
    "print (Z5)\n",
    "print (Z5.list())\n",
    "print (Z5(3)+Z5(4))\n",
    "print (Z5(3+4))\n",
    "Z5.addition_table(names='elements')"
   ]
  },
  {
   "cell_type": "code",
   "execution_count": 18,
   "metadata": {},
   "outputs": [
    {
     "name": "stdout",
     "output_type": "stream",
     "text": [
      "Ring of integers modulo 8\n",
      "[0, 1, 2, 3, 4, 5, 6, 7]\n",
      "3\n",
      "1\n"
     ]
    }
   ],
   "source": [
    "Z8=IntegerModRing(8)\n",
    "print (Z8)\n",
    "print (Z8.list())\n",
    "print (Z8(5)+Z8(6))\n",
    "print (Z8(-7))"
   ]
  },
  {
   "cell_type": "markdown",
   "metadata": {},
   "source": [
    "### Πολλαπλασιαστική ομάδα modulo $n$: $(\\mathbb{Z}_n^*,\\cdot)$"
   ]
  },
  {
   "cell_type": "code",
   "execution_count": 1,
   "metadata": {},
   "outputs": [
    {
     "name": "stdout",
     "output_type": "stream",
     "text": [
      "Ring of integers modulo 11\n",
      "[0, 1, 2, 3, 4, 5, 6, 7, 8, 9, 10]\n",
      "4\n"
     ]
    },
    {
     "data": {
      "text/plain": [
       " *   0  1  2  3  4  5  6  7  8  9 10\n",
       "  +---------------------------------\n",
       " 0|  0  0  0  0  0  0  0  0  0  0  0\n",
       " 1|  0  1  2  3  4  5  6  7  8  9 10\n",
       " 2|  0  2  4  6  8 10  1  3  5  7  9\n",
       " 3|  0  3  6  9  1  4  7 10  2  5  8\n",
       " 4|  0  4  8  1  5  9  2  6 10  3  7\n",
       " 5|  0  5 10  4  9  3  8  2  7  1  6\n",
       " 6|  0  6  1  7  2  8  3  9  4 10  5\n",
       " 7|  0  7  3 10  6  2  9  5  1  8  4\n",
       " 8|  0  8  5  2 10  7  4  1  9  6  3\n",
       " 9|  0  9  7  5  3  1 10  8  6  4  2\n",
       "10|  0 10  9  8  7  6  5  4  3  2  1\n"
      ]
     },
     "execution_count": 1,
     "metadata": {},
     "output_type": "execute_result"
    }
   ],
   "source": [
    "Z11=IntegerModRing(11)\n",
    "print (Z11)\n",
    "print (Z11.list())\n",
    "print (Z11(2)*Z11(13))\n",
    "Z11.multiplication_table(names='elements')"
   ]
  },
  {
   "cell_type": "markdown",
   "metadata": {},
   "source": [
    "### RSA: κρυπτογράφηση και αποκρυπτογράφηση "
   ]
  },
  {
   "cell_type": "code",
   "execution_count": 27,
   "metadata": {},
   "outputs": [
    {
     "name": "stdout",
     "output_type": "stream",
     "text": [
      "The first prime is: 23\n",
      "The second prime is: 31\n",
      "True\n",
      "True\n",
      "The primes' product is: 713\n"
     ]
    }
   ],
   "source": [
    "# choose two primes (not so large!)\n",
    "p=next_prime(20)\n",
    "q=next_prime(30)\n",
    "print \"The first prime is:\", p\n",
    "print \"The second prime is:\", q\n",
    "\n",
    "# confirm primality\n",
    "print is_prime(p)\n",
    "print is_prime(q)\n",
    "\n",
    "# calculate the primes product n \n",
    "n=p*q\n",
    "print \"The primes' product is:\", n"
   ]
  },
  {
   "cell_type": "code",
   "execution_count": 26,
   "metadata": {},
   "outputs": [
    {
     "data": {
      "text/plain": [
       "31 * 53"
      ]
     },
     "execution_count": 26,
     "metadata": {},
     "output_type": "execute_result"
    }
   ],
   "source": [
    "factor(1643) "
   ]
  },
  {
   "cell_type": "code",
   "execution_count": 30,
   "metadata": {},
   "outputs": [
    {
     "name": "stdout",
     "output_type": "stream",
     "text": [
      "Modulus n=: 96558847794129601195433671537057027889164415366861354193106252796730079601\n",
      "Bit length of modulus: 246\n",
      "####################\n",
      "First prime: 2272186661128516600784684176871413279\n",
      "Bit length of the first prime number: 121\n",
      "Seconf prime: 42496001515197769015403821159186308719\n",
      "Bit length of the second prime number: 125\n",
      "####################\n",
      "Verification True\n"
     ]
    }
   ],
   "source": [
    "# how to create large, random primes\n",
    "bits=256 #64, 128, 256\n",
    "\n",
    "p=next_prime(ZZ.random_element(2^(bits//2)))\n",
    "q=next_prime(ZZ.random_element(2^(bits//2)))\n",
    "n=p*q\n",
    "\n",
    "lpr = [pr for pr,e in factor(n)]\n",
    "\n",
    "print \"Modulus n=:\", n\n",
    "print \"Bit length of modulus:\", len(n.binary())\n",
    "print \"####################\"\n",
    "print \"First prime:\", lpr[0]\n",
    "print \"Bit length of the first prime number:\", len(lpr[0].binary())\n",
    "print \"Second prime:\", lpr[1]\n",
    "print \"Bit length of the second prime number:\", len(lpr[1].binary())\n",
    "print \"####################\"\n",
    "print \"Verification\", n== lpr[0] * lpr[1]"
   ]
  },
  {
   "cell_type": "code",
   "execution_count": 40,
   "metadata": {},
   "outputs": [
    {
     "name": "stdout",
     "output_type": "stream",
     "text": [
      "161935269922900040348908766231518466690920089736366081095024900939043825943714944810556143426576193561929601890918036925468778358969384658066272753273589510820382667962301561678065284309905800325979604560338685938288964264881586655215857662864845101329482079756801676469197832284437429559979297928342249584703\n",
      "1110011010011010011111011001100011011111000101111001010111101000010010000100011100000001010011100010011101010011010000000001011000101111011010110000000100011001001100001011011101001100000100101001110111110001111001111111000111100000001100010110101000000100100001001010110011011001110100111110011011111011101000001010110110011100000001010100110011011101100010001111010110010100011011111010111010111001011100101000101101111100001110100100110011101110011110101011100000101111111011111000111011100010011011001000100110000001001110110000101011110010001011100011000011011011000011001010111100110011011011100111100011011010111101001010000000011101111001110001010000010001111110000001101111011101011111000010001110011111100011000010110000100101011100100111111110010011000101000111010001011000110100110110100000111110010001001101000011100110011001000001110100001010101111111110111001100000001011111110100101110010111100010110001001111101101001111000011111001000110110101010011000010001010010101011011111001000000110101011100000111111\n",
      "Bit length: 1024\n",
      "True\n"
     ]
    }
   ],
   "source": [
    "bits=1024\n",
    "\n",
    "p=next_prime(ZZ.random_element(2^bits))\n",
    "\n",
    "print p\n",
    "print p.binary()\n",
    "print \"Bit length:\", len(p.binary())\n",
    "print is_prime(p)"
   ]
  },
  {
   "cell_type": "code",
   "execution_count": 34,
   "metadata": {},
   "outputs": [
    {
     "name": "stdout",
     "output_type": "stream",
     "text": [
      "7 * 17\n",
      "96\n",
      "(1, -19, 1)\n"
     ]
    }
   ],
   "source": [
    "print factor(119) \n",
    "print 6*16\n",
    "print xgcd(5,96)"
   ]
  },
  {
   "cell_type": "code",
   "execution_count": 20,
   "metadata": {},
   "outputs": [
    {
     "name": "stdout",
     "output_type": "stream",
     "text": [
      "('The ciphertext is:', 41)\n",
      "('The plaintext is:', 6)\n"
     ]
    }
   ],
   "source": [
    "# the message\n",
    "m=6\n",
    "\n",
    "#public key\n",
    "e=5\n",
    "n=119\n",
    "\n",
    "#private key\n",
    "d=77\n",
    "\n",
    "# encryption\n",
    "cipher=power_mod(m,e,n)\n",
    "print (\"The ciphertext is:\", cipher)\n",
    "\n",
    "# decryption\n",
    "plain=power_mod(cipher,d,n)\n",
    "print (\"The plaintext is:\", plain)"
   ]
  },
  {
   "cell_type": "code",
   "execution_count": 21,
   "metadata": {},
   "outputs": [
    {
     "name": "stdout",
     "output_type": "stream",
     "text": [
      "7776\n"
     ]
    }
   ],
   "source": [
    "print (m^e)"
   ]
  },
  {
   "cell_type": "code",
   "execution_count": 22,
   "metadata": {},
   "outputs": [
    {
     "name": "stdout",
     "output_type": "stream",
     "text": [
      "96\n",
      "1\n"
     ]
    }
   ],
   "source": [
    "# euler_phi(n)=(p-1)(q-1)\n",
    "#public key: e=5, n=119, #private key: d=77\n",
    "print ((euler_phi(n)))\n",
    "print ((e*d)%(euler_phi(n)))"
   ]
  },
  {
   "cell_type": "markdown",
   "metadata": {},
   "source": [
    "**Διαιρετότητα: παραγοντοποίηση σε πρώτους**\n",
    "\n",
    "Ένας σύνθετος $a \\in \\mathbb{Z}$ μπορεί να γραφεί κατά μοναδικό τρόπο ως γινόμενο της μορφής:\n",
    "$$a = p_1^{e_1}p_2^{e_2} \\ldots p_n^{e_n} = \\prod_{i=1}^{n} p_i^{e_i}$$\n",
    "όπου οι $p_1,p_2,\\ldots,p_n$ είναι πρώτοι, $p_1 < p_2 < \\ldots < p_n$ και οι $e_1, e_2, \\ldots, e_n$ είναι θετικοί ακέραιοι."
   ]
  },
  {
   "cell_type": "markdown",
   "metadata": {},
   "source": [
    "### Πιστοποίηση πρώτου_1"
   ]
  },
  {
   "cell_type": "code",
   "execution_count": 41,
   "metadata": {},
   "outputs": [
    {
     "name": "stdout",
     "output_type": "stream",
     "text": [
      "(2, False)\n",
      "(3, False)\n",
      "(131, True)\n"
     ]
    }
   ],
   "source": [
    "def isprime_1(n):\n",
    "    if n<=1:\n",
    "        return False\n",
    "    t = 2\n",
    "    while t <= n-1: \n",
    "        if mod(n,t) == 0:\n",
    "            return t, False\n",
    "        t = t+1\n",
    "    return t, True\n",
    "\n",
    "print (isprime_1(10))\n",
    "print (isprime_1(15))\n",
    "print (isprime_1(131))"
   ]
  },
  {
   "cell_type": "code",
   "execution_count": 24,
   "metadata": {},
   "outputs": [
    {
     "name": "stdout",
     "output_type": "stream",
     "text": [
      "1500000000000000000000000\n",
      "100111101101000110010100110110110001100110110010001110001100000000000000000000000\n",
      "81\n"
     ]
    }
   ],
   "source": [
    "x=15*10^23\n",
    "print (x)\n",
    "print (x.binary())\n",
    "print (len(x.binary()))"
   ]
  },
  {
   "cell_type": "markdown",
   "metadata": {},
   "source": [
    "### Πιστοποίηση πρώτου_2"
   ]
  },
  {
   "cell_type": "code",
   "execution_count": 42,
   "metadata": {},
   "outputs": [
    {
     "name": "stdout",
     "output_type": "stream",
     "text": [
      "(2, False)\n",
      "(3, False)\n",
      "(131, True)\n"
     ]
    }
   ],
   "source": [
    "def isprime_2(n):\n",
    "    if n<=1:\n",
    "        return False\n",
    "    t = 2\n",
    "    while t <= floor(n/2): \n",
    "        if mod(n,t) == 0:\n",
    "            return t, False\n",
    "        t = t+1\n",
    "    return n, True\n",
    "    \n",
    "print (isprime_2(10))\n",
    "print (isprime_2(15))\n",
    "print (isprime_2(131))"
   ]
  },
  {
   "cell_type": "markdown",
   "metadata": {},
   "source": [
    "### Πιστοποίηση πρώτου_3"
   ]
  },
  {
   "cell_type": "code",
   "execution_count": 43,
   "metadata": {},
   "outputs": [
    {
     "name": "stdout",
     "output_type": "stream",
     "text": [
      "(2, False)\n",
      "(3, False)\n",
      "(131, True)\n"
     ]
    }
   ],
   "source": [
    "def isprime_3(n):\n",
    "    if n<=1:\n",
    "        return False\n",
    "    t = 2\n",
    "    while t*t <= floor(n): \n",
    "        if mod(n,t) == 0:\n",
    "            return t, False\n",
    "        t = t+1\n",
    "    return n, True\n",
    "    \n",
    "print (isprime_3(10))\n",
    "print (isprime_3(15))\n",
    "print (isprime_3(131))"
   ]
  },
  {
   "cell_type": "code",
   "execution_count": 44,
   "metadata": {},
   "outputs": [
    {
     "name": "stdout",
     "output_type": "stream",
     "text": [
      "2\n",
      "[2, 2, 3, 11]\n"
     ]
    }
   ],
   "source": [
    "# Η συνάρτηση mfact επιστρέφει τον μικρότερο πρώτο παράγοντα του n\n",
    "def mfact(n):\n",
    "    i = 2\n",
    "    while i*i <= n:\n",
    "        if mod(n,i) == 0: \n",
    "            return i\n",
    "        i = i+1\n",
    "    return n     \n",
    "\n",
    "# Η συνάρτηση allfact επιστρέφει όλους τους πρώτους παράγοντες του n\n",
    "def allfact(n):\n",
    "    if n == 1: return []\n",
    "    m = mfact(n)\n",
    "    return [m] + allfact(n/m)\n",
    "\n",
    "print (mfact(132))\n",
    "print (allfact(132))"
   ]
  },
  {
   "cell_type": "code",
   "execution_count": 28,
   "metadata": {},
   "outputs": [
    {
     "name": "stdout",
     "output_type": "stream",
     "text": [
      "2^2 * 3 * 11\n"
     ]
    }
   ],
   "source": [
    "# γινόμενο πρώτων παραγόντων\n",
    "n=132\n",
    "f=factor(n)\n",
    "print (f)"
   ]
  },
  {
   "cell_type": "code",
   "execution_count": 29,
   "metadata": {},
   "outputs": [
    {
     "name": "stdout",
     "output_type": "stream",
     "text": [
      "[(2, 2), (3, 1), (11, 1)]\n",
      "[2, 3, 11]\n",
      "[2, 1, 1]\n",
      "[4, 3, 11]\n"
     ]
    }
   ],
   "source": [
    "print ([y for y in f])\n",
    "print ([p for p,e in f])\n",
    "print ([e for p,e in f])\n",
    "print ([p^e for p,e in f])"
   ]
  },
  {
   "cell_type": "code",
   "execution_count": 30,
   "metadata": {},
   "outputs": [
    {
     "name": "stdout",
     "output_type": "stream",
     "text": [
      "(51059, '1100011101110011')\n",
      "(39551, '1001101001111111')\n",
      "(2019434509, '1111000010111100010000000001101', 31)\n",
      "39551 * 51059\n"
     ]
    }
   ],
   "source": [
    "# create random primes defining the number of bits\n",
    "# observe that time for factorizing increases with the number of bits\n",
    "bits=32 #256 #30 #60\n",
    "p=next_prime(ZZ.random_element(2^(bits//2)))\n",
    "q=next_prime(ZZ.random_element(2^(bits//2)))\n",
    "print (p, p.binary())\n",
    "print (q, q.binary())\n",
    "n=p*q\n",
    "print (n, n.binary(), len(n.binary()))\n",
    "print (factor(n))\n",
    "#print (allfact(n))"
   ]
  },
  {
   "cell_type": "code",
   "execution_count": 31,
   "metadata": {},
   "outputs": [
    {
     "name": "stdout",
     "output_type": "stream",
     "text": [
      "('1100011101110011', 16)\n",
      "('1001101001111111', 16)\n",
      "('1111000010111100010000000001101', 31)\n"
     ]
    }
   ],
   "source": [
    "print (p.binary(), len(p.binary()))\n",
    "print (q.binary(), len(q.binary()))\n",
    "print (n.binary(), len(n.binary()))"
   ]
  },
  {
   "cell_type": "markdown",
   "metadata": {},
   "source": [
    "### Συνάρτηση πολυπλοκότητας ενός αλγόριθμου: n"
   ]
  },
  {
   "cell_type": "code",
   "execution_count": null,
   "metadata": {},
   "outputs": [],
   "source": [
    "plot(x, 0.1,10, rgbcolor=(0,0,1))"
   ]
  },
  {
   "cell_type": "markdown",
   "metadata": {},
   "source": [
    "### Συνάρτηση πολυπλοκότητας ενός αλγόριθμου: $\\sqrt n$"
   ]
  },
  {
   "cell_type": "code",
   "execution_count": null,
   "metadata": {},
   "outputs": [],
   "source": [
    "plot(sqrt, 0.1,10, rgbcolor=(0,0,1))"
   ]
  },
  {
   "cell_type": "markdown",
   "metadata": {},
   "source": [
    "### Συνάρτηση πολυπλοκότητας ενός αλγόριθμου: $log(n)$"
   ]
  },
  {
   "cell_type": "code",
   "execution_count": null,
   "metadata": {},
   "outputs": [],
   "source": [
    "plot(log, 0.1,10, rgbcolor=(0,0,1))"
   ]
  },
  {
   "cell_type": "code",
   "execution_count": null,
   "metadata": {},
   "outputs": [],
   "source": [
    "var('x')\n",
    "print ([x^i for i in range (1,11)])"
   ]
  },
  {
   "cell_type": "code",
   "execution_count": null,
   "metadata": {},
   "outputs": [],
   "source": [
    "print([is_prime(x) for x in range(10)])"
   ]
  },
  {
   "cell_type": "code",
   "execution_count": null,
   "metadata": {},
   "outputs": [],
   "source": [
    "P=[nth_prime(x) for x in range(1,15)]\n",
    "print (P)"
   ]
  },
  {
   "cell_type": "code",
   "execution_count": null,
   "metadata": {},
   "outputs": [],
   "source": [
    "R=primes_first_n(15)\n",
    "print (R)"
   ]
  },
  {
   "cell_type": "code",
   "execution_count": null,
   "metadata": {},
   "outputs": [],
   "source": [
    "S=prime_range(3,23)\n",
    "print (S)"
   ]
  },
  {
   "cell_type": "markdown",
   "metadata": {},
   "source": [
    "**Βοήθεια (Help)** μπορούμε να την επικαλεστούμε με το $?$. Η έξοδος θα περιλαμβάνει μια περιγραφή της συνάρτησης (εντολής), τα ορίσματα για (με) τα οποία ορίζεται, μια απαρίθμηση όλων των παραμέτρων της και άφθονα παραδείγματα."
   ]
  },
  {
   "cell_type": "code",
   "execution_count": null,
   "metadata": {},
   "outputs": [],
   "source": [
    "factor?"
   ]
  },
  {
   "cell_type": "markdown",
   "metadata": {},
   "source": [
    "**Signature**: factor(n, proof=None, int_=False, algorithm='pari', verbose=0, **kwds)\n",
    "\n",
    "**Docstring**: Returns the factorization of \"n\".  The result depends on the type of \"n\".\n",
    "   ...\n",
    "To access the data in a factorization:\n",
    "\n",
    "      sage: f = factor(420); f\n",
    "      2^2 * 3 * 5 * 7\n",
    "      sage: [x for x in f]\n",
    "      [(2, 2), (3, 1), (5, 1), (7, 1)]\n",
    "      sage: [p for p,e in f]\n",
    "      [2, 3, 5, 7]\n",
    "      sage: [e for p,e in f]\n",
    "      [2, 1, 1, 1]\n",
    "      sage: [p^e for p,e in f]\n",
    "      [4, 3, 5, 7]"
   ]
  },
  {
   "cell_type": "code",
   "execution_count": null,
   "metadata": {},
   "outputs": [],
   "source": []
  }
 ],
 "metadata": {
  "kernelspec": {
   "display_name": "SageMath 8.3",
   "language": "",
   "name": "sagemath"
  },
  "language_info": {
   "codemirror_mode": {
    "name": "ipython",
    "version": 2
   },
   "file_extension": ".py",
   "mimetype": "text/x-python",
   "name": "python",
   "nbconvert_exporter": "python",
   "pygments_lexer": "ipython2",
   "version": "2.7.15"
  }
 },
 "nbformat": 4,
 "nbformat_minor": 1
}
