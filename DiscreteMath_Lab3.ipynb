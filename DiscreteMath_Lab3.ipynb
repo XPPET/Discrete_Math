{
 "cells": [
  {
   "cell_type": "markdown",
   "metadata": {},
   "source": [
    "# Διακριτά Μαθηματικά\n",
    "## Στοιχεία μαθηματικής λογικής – έλεγχος εγκυρότητας επιχειρήματος, κατηγορηματικός λογισμός, μέθοδοι απόδειξης\n",
    "## Χρήστος Πετρίδης ([ics24199@uom.edu.gr](mailto:ics24199@uom.edu.gr))"
   ]
  },
  {
   "cell_type": "markdown",
   "metadata": {},
   "source": [
    "### Έλεγχος εγκυρότητας επιχειρήματος"
   ]
  },
  {
   "cell_type": "markdown",
   "metadata": {},
   "source": [
    "#### Παράδειγμα 1\n",
    "Έστω οι υποθέσεις: \"εάν έχει κρύο τότε χιονίζει\", \"εάν χιονίζει τότε έχουμε ατυχήματα\" και \"δεν έχουμε ατυχήματα\" και το συμπέρασμα \"δεν έχει κρύο\" ενός επιχειρήματος. Είναι έγκυρο το επιχείρημα?\n",
    "\n",
    "Απάντηση: Το επιχείρημα είναι έγκυρο αν το τύπος επιχειρήματος είναι έγκυρος. Οι λ.τ. των υποθέσεων διαμορφώνονται ως εξής: \"k->x\", \"x->a\", \"~a\", ενώ ο λ.τ. του συμπεράσματος είναι: \"~k\"."
   ]
  },
  {
   "cell_type": "code",
   "execution_count": 3,
   "metadata": {},
   "outputs": [
    {
     "data": {
      "text/plain": [
       "True"
      ]
     },
     "execution_count": 3,
     "metadata": {},
     "output_type": "execute_result"
    }
   ],
   "source": [
    "f, g, h, i = propcalc.get_formulas(\"k->x\", \"x->a\", \"~a\", \"~k\")\n",
    "propcalc.consistent(f, g, h, i)"
   ]
  },
  {
   "cell_type": "code",
   "execution_count": 4,
   "metadata": {},
   "outputs": [
    {
     "data": {
      "text/plain": [
       "False"
      ]
     },
     "execution_count": 4,
     "metadata": {},
     "output_type": "execute_result"
    }
   ],
   "source": [
    "f, g, h, i = propcalc.get_formulas(\"k->x\", \"x->a\", \"~a\", \"k\")\n",
    "propcalc.consistent(f, g, h, i)"
   ]
  },
  {
   "cell_type": "code",
   "execution_count": null,
   "metadata": {},
   "outputs": [],
   "source": [
    "x, y, z, w = propcalc.get_formulas(\"x1->~x3\", \"(x2&x3)->~x4\", \"x2<->x4\", \"x3\")\n",
    "propcalc.consistent(x, y, z, w)"
   ]
  },
  {
   "cell_type": "markdown",
   "metadata": {},
   "source": [
    "#### Παράδειγμα 2\n",
    "\n",
    "Είναι έγκυρο το παρακάτω επιχείρημα? Η Ιωάννα και ο Πέτρος δε θα κερδίσουν και οι δυο το βραβείο μαθηματικών. Ο Πέτρος θα κερδίσει το βραβείο μαθηματικών ή το βραβείο χημείας. Η Ιωάννα θα κερδίσει το βραβείο μαθηματικών. Συνεπώς, ο Πέτρος θα κερδίσει το βραβείο χημείας."
   ]
  },
  {
   "cell_type": "code",
   "execution_count": 5,
   "metadata": {},
   "outputs": [
    {
     "data": {
      "text/plain": [
       "True"
      ]
     },
     "execution_count": 5,
     "metadata": {},
     "output_type": "execute_result"
    }
   ],
   "source": [
    "a, b, c, d = propcalc.get_formulas(\"~(jm&pm)\", \"pm|pc\", \"jm\", \"pc\")\n",
    "propcalc.consistent(a, b, c, d)"
   ]
  },
  {
   "cell_type": "markdown",
   "metadata": {},
   "source": [
    "### Κατηγορηματικός λογισμός\n",
    "\n",
    "Η σχέση **$\\forall$** και σύζευξης **$\\land$**\n",
    "\n",
    "$\\forall x \\in D,\\ P(x) \\equiv P(x_1) \\land P(x_2) \\land \\ldots$\n"
   ]
  },
  {
   "cell_type": "markdown",
   "metadata": {},
   "source": [
    "#### Παράδειγμα 3 (διαφάνεια 18)\n",
    "\n",
    "Έστω $D=\\{1, 2, 3, 4, 5\\}$ και θεωρήστε τη λογική πρόταση $\\forall x \\in D,\\ x^2 \\geq x$\n"
   ]
  },
  {
   "cell_type": "code",
   "execution_count": null,
   "metadata": {},
   "outputs": [],
   "source": [
    "# μέθοδος της εξάντλησης\n",
    "k=0\n",
    "for x in range(1,6):\n",
    "    if x^2 >= x:\n",
    "        k=k+1\n",
    "    else: \n",
    "        print (False)\n",
    "        break\n",
    "\n",
    "if k==len(range(1,6)): print (True)"
   ]
  },
  {
   "cell_type": "markdown",
   "metadata": {},
   "source": [
    "Η σχέση **$\\exists$** και διάζευξης **$\\lor$**\n",
    "\n",
    "$\\exists x \\in D,\\ P(x) \\equiv P(x_1) \\lor P(x_2) \\lor \\ldots$"
   ]
  },
  {
   "cell_type": "markdown",
   "metadata": {},
   "source": [
    "#### Παράδειγμα 4 (διαφάνεια 20)\n",
    "Έστω $E=\\{5, 6, 7, 8, 9, 10\\}$ και θεωρήστε τη λογική πρόταση $\\exists m \\in E,\\ m^2 = m$"
   ]
  },
  {
   "cell_type": "code",
   "execution_count": null,
   "metadata": {},
   "outputs": [],
   "source": [
    "# μέθοδος της εξάντλησης\n",
    "l=0\n",
    "for m in range(5,11):\n",
    "    if m^2 == m:\n",
    "        print (True)\n",
    "        break\n",
    "    else: \n",
    "        l=l+1\n",
    "\n",
    "if l==len(range(5,11)): print (False)"
   ]
  }
 ],
 "metadata": {
  "kernelspec": {
   "display_name": "SageMath 8.3",
   "language": "",
   "name": "sagemath"
  },
  "language_info": {
   "codemirror_mode": {
    "name": "ipython",
    "version": 2
   },
   "file_extension": ".py",
   "mimetype": "text/x-python",
   "name": "python",
   "nbconvert_exporter": "python",
   "pygments_lexer": "ipython2",
   "version": "2.7.15"
  }
 },
 "nbformat": 4,
 "nbformat_minor": 1
}
