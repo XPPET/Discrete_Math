{
 "cells": [
  {
   "cell_type": "markdown",
   "metadata": {},
   "source": [
    "# Διακριτά Μαθηματικά\n",
    "## Στοιχεία μαθηματικής λογικής – προτασιακή λογική\n",
    "## Χρήστος Πετρίδης ([ics24199@uom.edu.gr](mailto:ics24199@uom.edu.gr))"
   ]
  },
  {
   "cell_type": "markdown",
   "metadata": {},
   "source": [
    "### Ψηφιακά λογικά κυκλώματα\n",
    "\n",
    "Τα βασικά συστατικά ενός ηλεκτρονικού συστήματος ονομάζονται **ψηφιακά** (για να υποδηλώνεται ότι τα σήματα είναι διακεκριμένα και όχι συνεχή) **λογικά** (για να υπογραμμίζεται ο σημαντικός ρόλος της λογικής στη σχεδίασή τους) **κυκλώματα** (digital logic circuits)\n",
    "\n",
    "Η αντιστοιχία **κύκλωμα --> λογικός τύπος (λ.τ.)** έχει χρησιμοποιηθεί ευρέως στη μελέτη και τον σχεδιασμό κυκλωμάτων. Το επόμενο βήμα είναι η αντικατάσταση του κυκλώματος με ηλεκτρονική συσκευή με τις φυσικές καταστάσεις κλειστό και ανοικτό να αντιστοιχούν σε ηλεκτρονικές καταστάσεις όπως υψηλής και χαμηλής τάσης. Περισσότερο πολύπλοκα κυκλώματα αντιστοιχούν σε πιο σύνθετους λ.τ."
   ]
  },
  {
   "cell_type": "markdown",
   "metadata": {},
   "source": [
    "#### Λογικοί τελεστές\n",
    "\n",
    "* & and\n",
    "* | or\n",
    "* ~ not\n",
    "* ^ xor\n",
    "* -> if-then\n",
    "* <-> if and only if  "
   ]
  },
  {
   "cell_type": "code",
   "execution_count": null,
   "metadata": {},
   "outputs": [],
   "source": [
    "# Σύζευξη (conjunction)\n",
    "# πίνακας αληθείας για την p ∧ q\n",
    "f = propcalc.formula(\"p&q\")\n",
    "print(f.truthtable())\n",
    "print(f.evaluate({'p':True, 'q':False}))"
   ]
  },
  {
   "cell_type": "code",
   "execution_count": null,
   "metadata": {},
   "outputs": [],
   "source": [
    "# Διάζευξη (disjunction)\n",
    "# πίνακας αληθείας για την p ∨ q\n",
    "f = propcalc.formula(\"p|q\")\n",
    "print(f.truthtable())\n",
    "print(f.evaluate({'p':True, 'q':False}))"
   ]
  },
  {
   "cell_type": "code",
   "execution_count": null,
   "metadata": {},
   "outputs": [],
   "source": [
    "# Άρνηση (negation)\n",
    "# πίνακας αληθείας για την ¬ p\n",
    "f = propcalc.formula(\"~p\")\n",
    "print(f.truthtable())\n",
    "print(f.evaluate({'p':True}))"
   ]
  },
  {
   "cell_type": "code",
   "execution_count": null,
   "metadata": {},
   "outputs": [],
   "source": [
    "def xor(p, q):\n",
    "          return (p or q) and not(p and q)\n",
    "\n",
    "def implies(p, q):\n",
    "          return not p or q\n",
    "\n",
    "def equivalent(p, q):\n",
    "          return implies(p, q) and implies(q, p)\n",
    "\n",
    "a = True\n",
    "b = False\n",
    "print(\"a --> b is\", implies(a, b))\n",
    "print(\"b --> a is\", implies(b, a))\n",
    "print(\"a <-> b is\", equivalent(a, b))\n",
    "print(\"a xor b is\", xor(a, b))"
   ]
  },
  {
   "cell_type": "code",
   "execution_count": null,
   "metadata": {},
   "outputs": [],
   "source": [
    "# Αποκλειστική διάζευξη (exclusive disjunction)\n",
    "# πίνακας αληθείας για την p xor q\n",
    "f = propcalc.formula(\"p ^ q\")\n",
    "print (f.truthtable())\n",
    "print (f.evaluate({'p':True, 'q':False}))"
   ]
  },
  {
   "cell_type": "code",
   "execution_count": null,
   "metadata": {},
   "outputs": [],
   "source": [
    "# Συνεπαγωγή (implication)\n",
    "# πίνακας αληθείας για την p --> q\n",
    "f = propcalc.formula(\"p -> q\")\n",
    "print(f.truthtable())\n",
    "print(f.evaluate({'p':True, 'q':False}))"
   ]
  },
  {
   "cell_type": "code",
   "execution_count": null,
   "metadata": {},
   "outputs": [],
   "source": [
    "# Ισοδυναμία (equivalence)\n",
    "# πίνακας αληθείας για την p <-> q\n",
    "f = propcalc.formula(\"p <-> q\")\n",
    "print(f.truthtable())\n",
    "print(f.evaluate({'p':True, 'q':False}))"
   ]
  },
  {
   "cell_type": "markdown",
   "metadata": {},
   "source": [
    "#### Ταυτολογία και αντίφαση"
   ]
  },
  {
   "cell_type": "code",
   "execution_count": null,
   "metadata": {},
   "outputs": [],
   "source": [
    "a = True\n",
    "b = False\n",
    "f = propcalc.formula(\"a|b\")\n",
    "print (f.is_satisfiable())\n",
    "f = f & ~f\n",
    "print(f.is_satisfiable())\n",
    "print(f.is_contradiction())\n",
    "f = f | ~f\n",
    "print(f.is_satisfiable())\n",
    "print(f.is_tautology())"
   ]
  },
  {
   "cell_type": "markdown",
   "metadata": {},
   "source": [
    "#### Ισοδύναμοι λογικοί τύποι"
   ]
  },
  {
   "cell_type": "code",
   "execution_count": null,
   "metadata": {},
   "outputs": [],
   "source": [
    "f = propcalc.formula(\"(p|q)&(~(p&q))\")\n",
    "g = propcalc.formula(\"p^q\")\n",
    "print (f == g)"
   ]
  },
  {
   "cell_type": "code",
   "execution_count": null,
   "metadata": {},
   "outputs": [],
   "source": [
    "f = propcalc.formula(\"((p|~q)|(p&q))&q\")\n",
    "g = propcalc.formula(\"p&q\")\n",
    "h = propcalc.formula(\"p|q\")\n",
    "print(f == g)\n",
    "print(f == h)"
   ]
  },
  {
   "cell_type": "code",
   "execution_count": 5,
   "metadata": {},
   "outputs": [
    {
     "name": "stdout",
     "output_type": "stream",
     "text": [
      "True\n"
     ]
    }
   ],
   "source": [
    "#Σχεδίαση κυκλώματος από πίνακα αληθείας\n",
    "f = propcalc.formula(\"(p&q&r)|(p&~q&r)|(p&~q&~r)\")\n",
    "g = propcalc.formula(\"p&(~q|r)\")\n",
    "print (f == g)"
   ]
  },
  {
   "cell_type": "markdown",
   "metadata": {},
   "source": [
    "**Νόμοι De Morgan**"
   ]
  },
  {
   "cell_type": "code",
   "execution_count": 3,
   "metadata": {},
   "outputs": [
    {
     "name": "stdout",
     "output_type": "stream",
     "text": [
      "True\n"
     ]
    }
   ],
   "source": [
    "f = propcalc.formula(\"~(p|q)\")\n",
    "g = propcalc.formula(\"~p&~q\")\n",
    "print(f == g)"
   ]
  },
  {
   "cell_type": "code",
   "execution_count": 4,
   "metadata": {},
   "outputs": [
    {
     "name": "stdout",
     "output_type": "stream",
     "text": [
      "True\n"
     ]
    }
   ],
   "source": [
    "k = propcalc.formula(\"~(p&q)\")\n",
    "l = propcalc.formula(\"~p|~q\")\n",
    "print(k == l)"
   ]
  },
  {
   "cell_type": "markdown",
   "metadata": {},
   "source": [
    "#### Έλεγχος εγκυρότητας επιχειρήματος"
   ]
  },
  {
   "cell_type": "code",
   "execution_count": null,
   "metadata": {},
   "outputs": [],
   "source": [
    "f, g, h, i = propcalc.get_formulas(\"k->x\", \"x->a\", \"~a\", \"~k\")\n",
    "propcalc.consistent(f, g, h, i)"
   ]
  },
  {
   "cell_type": "code",
   "execution_count": null,
   "metadata": {},
   "outputs": [],
   "source": [
    "f, g, h, i = propcalc.get_formulas(\"k->x\", \"x->a\", \"~a\", \"k\")\n",
    "propcalc.consistent(f, g, h, i)"
   ]
  },
  {
   "cell_type": "markdown",
   "metadata": {},
   "source": [
    "#### Κάθε Μπουλιανή έκφραση μπορεί να μετατραπεί σε συζευκτική κανονική μορφή (conjunctive normal form)"
   ]
  },
  {
   "cell_type": "code",
   "execution_count": null,
   "metadata": {},
   "outputs": [],
   "source": [
    "import sage.logic.propcalc as propcalc\n",
    "t = propcalc.formula(\"p <-> q\")\n",
    "t.convert_cnf()\n",
    "print(t)"
   ]
  },
  {
   "cell_type": "code",
   "execution_count": null,
   "metadata": {},
   "outputs": [],
   "source": [
    "s = propcalc.formula(\"(p -> q) | (p -> r)\")\n",
    "s.convert_cnf()\n",
    "print(s)"
   ]
  },
  {
   "cell_type": "code",
   "execution_count": null,
   "metadata": {},
   "outputs": [],
   "source": [
    "k = propcalc.formula(\"(p->q)&(q->r)\")\n",
    "k.convert_cnf()\n",
    "l = propcalc.formula(\"(p->r)&((p<->q)|(r<->q))\")\n",
    "l.convert_cnf()\n",
    "print(k==l)"
   ]
  },
  {
   "cell_type": "markdown",
   "metadata": {
    "collapsed": true
   },
   "source": [
    "#### Άσκηση 1\n",
    "Να ορίσετε συνάρτηση **triangle** που θα δέχεται ως είσοδο τρεις αριθμούς $a, b, c$ και θα αποφαίνεται αν μπορούν να αποτελούν τα μήκη τριών πλευρών ενός τριγώνου."
   ]
  },
  {
   "cell_type": "markdown",
   "metadata": {},
   "source": [
    "#### Άσκηση 2\n",
    "Να ορίσετε συνάρτηση **beZero** που θα επιστρέφει true έαν ένας πίνακας ακεραίων έχεις ως πρώτο ή τελευταίο στοιχείο το 0, διαφορετικά θα επιστρέφει false. Υποθέστε ότι $n$ είναι η διάσταση του πίνακα. Εν συνεχεία αποδείξτε ότι η συνάρτηση αποφαίνεται ορθά στις περιπτώσεις του κενού πίνακα και του πίνακα με ένα στοιχείο. "
   ]
  },
  {
   "cell_type": "markdown",
   "metadata": {},
   "source": [
    "#### Άσκηση 3\n",
    "Απλοποιήστε το παρακάτω τμήμα κώδικα:\n",
    "\n",
    "if ( not (a==\"null\" or len(a) <=0) ):\n",
    "    print a"
   ]
  },
  {
   "cell_type": "markdown",
   "metadata": {},
   "source": [
    "#### Άσκηση 4\n",
    "Απλοποιήστε το παρακάτω τμήμα κώδικα:\n",
    "    \n",
    "if ((x > 0 and x < y) or (x > 0 and x >= y)): print x"
   ]
  }
 ],
 "metadata": {
  "kernelspec": {
   "display_name": "SageMath 8.3",
   "language": "",
   "name": "sagemath"
  },
  "language_info": {
   "codemirror_mode": {
    "name": "ipython",
    "version": 2
   },
   "file_extension": ".py",
   "mimetype": "text/x-python",
   "name": "python",
   "nbconvert_exporter": "python",
   "pygments_lexer": "ipython2",
   "version": "2.7.15"
  }
 },
 "nbformat": 4,
 "nbformat_minor": 1
}
